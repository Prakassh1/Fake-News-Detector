{
 "cells": [
  {
   "cell_type": "code",
   "execution_count": null,
   "id": "fcd922a5",
   "metadata": {},
   "outputs": [],
   "source": [
    "import numpy as np\n",
    "from flask import Flask, request,render_template\n",
    "from flask_cors import CORS\n",
    "import os\n",
    "import joblib\n",
    "import pickle\n",
    "import flask\n",
    "import os\n",
    "import newspaper\n",
    "from newspaper import Article\n",
    "import urllib\n"
   ]
  },
  {
   "cell_type": "code",
   "execution_count": 5,
   "id": "b690169e",
   "metadata": {},
   "outputs": [],
   "source": [
    "app = Flask(__name__)\n",
    "CORS(app)\n",
    "app=flask.Flask(__name__,template_folder='templates')"
   ]
  },
  {
   "cell_type": "code",
   "execution_count": null,
   "id": "b605f2a8",
   "metadata": {},
   "outputs": [],
   "source": [
    "filename = 'finalized_model.sav'\n",
    "model = joblib.load(filename)"
   ]
  },
  {
   "cell_type": "code",
   "execution_count": 6,
   "id": "060ff658",
   "metadata": {},
   "outputs": [],
   "source": [
    "with open('model.pickle', 'rb') as handle:\n",
    "\tmodel = pickle.load(handle)"
   ]
  },
  {
   "cell_type": "code",
   "execution_count": 7,
   "id": "a0997594",
   "metadata": {},
   "outputs": [],
   "source": [
    "@app.route('/')\n",
    "def main():\n",
    "    return render_template('main.html')"
   ]
  },
  {
   "cell_type": "code",
   "execution_count": 8,
   "id": "10a81c80",
   "metadata": {},
   "outputs": [],
   "source": [
    "@app.route('/predict',methods=['GET','POST'])\n",
    "def predict():\n",
    "    url =request.get_data(as_text=True)[5:]\n",
    "    url = urllib.parse.unquote(url)\n",
    "    article = Article(str(url))\n",
    "    article.download()\n",
    "    article.parse()\n",
    "    article.nlp()\n",
    "    news = article.summary\n",
    "    #Passing the news article to the model and returing whether it is Fake or Real\n",
    "    pred = model.predict([news])\n",
    "    return render_template('main.html', prediction_text='The news is \"{}\"'.format(pred[0]))"
   ]
  },
  {
   "cell_type": "code",
   "execution_count": null,
   "id": "88f96bab",
   "metadata": {},
   "outputs": [
    {
     "name": "stdout",
     "output_type": "stream",
     "text": [
      " * Serving Flask app \"__main__\" (lazy loading)\n",
      " * Environment: production\n",
      "   WARNING: This is a development server. Do not use it in a production deployment.\n",
      "   Use a production WSGI server instead.\n",
      " * Debug mode: on\n"
     ]
    },
    {
     "name": "stderr",
     "output_type": "stream",
     "text": [
      " * Running on http://127.0.0.1:5000/ (Press CTRL+C to quit)\n",
      "127.0.0.1 - - [03/Oct/2021 18:32:15] \"\u001b[37mGET / HTTP/1.1\u001b[0m\" 200 -\n",
      "127.0.0.1 - - [03/Oct/2021 18:32:15] \"\u001b[36mGET /static/css/style.css HTTP/1.1\u001b[0m\" 304 -\n",
      "127.0.0.1 - - [03/Oct/2021 18:32:16] \"\u001b[33mGET /favicon.ico HTTP/1.1\u001b[0m\" 404 -\n",
      "127.0.0.1 - - [03/Oct/2021 18:32:41] \"\u001b[35m\u001b[1mPOST /predict HTTP/1.1\u001b[0m\" 500 -\n",
      "Traceback (most recent call last):\n",
      "  File \"C:\\ProgramData\\Anaconda3\\Lib\\site-packages\\flask\\app.py\", line 2464, in __call__\n",
      "    return self.wsgi_app(environ, start_response)\n",
      "  File \"C:\\ProgramData\\Anaconda3\\Lib\\site-packages\\flask\\app.py\", line 2450, in wsgi_app\n",
      "    response = self.handle_exception(e)\n",
      "  File \"C:\\ProgramData\\Anaconda3\\Lib\\site-packages\\flask\\app.py\", line 1867, in handle_exception\n",
      "    reraise(exc_type, exc_value, tb)\n",
      "  File \"C:\\ProgramData\\Anaconda3\\Lib\\site-packages\\flask\\_compat.py\", line 39, in reraise\n",
      "    raise value\n",
      "  File \"C:\\ProgramData\\Anaconda3\\Lib\\site-packages\\flask\\app.py\", line 2447, in wsgi_app\n",
      "    response = self.full_dispatch_request()\n",
      "  File \"C:\\ProgramData\\Anaconda3\\Lib\\site-packages\\flask\\app.py\", line 1952, in full_dispatch_request\n",
      "    rv = self.handle_user_exception(e)\n",
      "  File \"C:\\ProgramData\\Anaconda3\\Lib\\site-packages\\flask\\app.py\", line 1821, in handle_user_exception\n",
      "    reraise(exc_type, exc_value, tb)\n",
      "  File \"C:\\ProgramData\\Anaconda3\\Lib\\site-packages\\flask\\_compat.py\", line 39, in reraise\n",
      "    raise value\n",
      "  File \"C:\\ProgramData\\Anaconda3\\Lib\\site-packages\\flask\\app.py\", line 1950, in full_dispatch_request\n",
      "    rv = self.dispatch_request()\n",
      "  File \"C:\\ProgramData\\Anaconda3\\Lib\\site-packages\\flask\\app.py\", line 1936, in dispatch_request\n",
      "    return self.view_functions[rule.endpoint](**req.view_args)\n",
      "  File \"<ipython-input-8-5a9488323e63>\", line 11, in predict\n",
      "    \n",
      "  File \"C:\\ProgramData\\Anaconda3\\Lib\\site-packages\\sklearn\\linear_model\\_base.py\", line 309, in predict\n",
      "    scores = self.decision_function(X)\n",
      "  File \"C:\\ProgramData\\Anaconda3\\Lib\\site-packages\\sklearn\\linear_model\\_base.py\", line 284, in decision_function\n",
      "    X = check_array(X, accept_sparse='csr')\n",
      "  File \"C:\\ProgramData\\Anaconda3\\Lib\\site-packages\\sklearn\\utils\\validation.py\", line 63, in inner_f\n",
      "    return f(*args, **kwargs)\n",
      "  File \"C:\\ProgramData\\Anaconda3\\Lib\\site-packages\\sklearn\\utils\\validation.py\", line 637, in check_array\n",
      "    raise ValueError(\n",
      "ValueError: Expected 2D array, got 1D array instead:\n",
      "array=['And, for this, big decisions should be taken and if need be, tough decisions should also be taken.\\nIn this scenario, India has done better than its peers and many developed countries, notwithstanding such negative campaigns.\\nThese were the same people who wrote in their manifesto that they would enact the same reforms that we have brought.\\n\"Modi also said that he attaches a big importance to criticism as it is his conviction that this helps in his own healthy development.\\nMostly, people only level allegations, the people who play games about perception are more in number.'].\n",
      "Reshape your data either using array.reshape(-1, 1) if your data has a single feature or array.reshape(1, -1) if it contains a single sample.\n",
      "127.0.0.1 - - [03/Oct/2021 18:32:41] \"\u001b[37mGET /predict?__debugger__=yes&cmd=resource&f=style.css HTTP/1.1\u001b[0m\" 200 -\n",
      "127.0.0.1 - - [03/Oct/2021 18:32:41] \"\u001b[37mGET /predict?__debugger__=yes&cmd=resource&f=jquery.js HTTP/1.1\u001b[0m\" 200 -\n",
      "127.0.0.1 - - [03/Oct/2021 18:32:41] \"\u001b[37mGET /predict?__debugger__=yes&cmd=resource&f=debugger.js HTTP/1.1\u001b[0m\" 200 -\n",
      "127.0.0.1 - - [03/Oct/2021 18:32:41] \"\u001b[37mGET /predict?__debugger__=yes&cmd=resource&f=console.png HTTP/1.1\u001b[0m\" 200 -\n",
      "127.0.0.1 - - [03/Oct/2021 18:32:41] \"\u001b[37mGET /predict?__debugger__=yes&cmd=resource&f=ubuntu.ttf HTTP/1.1\u001b[0m\" 200 -\n"
     ]
    }
   ],
   "source": [
    "if __name__==\"__main__\":\n",
    "    port=int(os.environ.get('PORT',5000))\n",
    "    app.run(port=port,debug=True,use_reloader=False)"
   ]
  },
  {
   "cell_type": "code",
   "execution_count": null,
   "id": "98d10ee4",
   "metadata": {},
   "outputs": [],
   "source": []
  }
 ],
 "metadata": {
  "kernelspec": {
   "display_name": "Python 3",
   "language": "python",
   "name": "python3"
  },
  "language_info": {
   "codemirror_mode": {
    "name": "ipython",
    "version": 3
   },
   "file_extension": ".py",
   "mimetype": "text/x-python",
   "name": "python",
   "nbconvert_exporter": "python",
   "pygments_lexer": "ipython3",
   "version": "3.8.8"
  }
 },
 "nbformat": 4,
 "nbformat_minor": 5
}
